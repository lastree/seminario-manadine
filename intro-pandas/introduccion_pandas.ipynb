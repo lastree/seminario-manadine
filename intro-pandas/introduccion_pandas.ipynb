{
 "cells": [
  {
   "cell_type": "markdown",
   "metadata": {},
   "source": [
    "# Introducción a Pandas\n",
    "**Pandas** es el paquete de Python más utilizado para el análisis de datos. Se trata de una librería muy popular puesto que provee las herramientas y estructuras necesarias para manipular y analizar datos en bruto. Usando esta librería podemos realizar los cinco pasos típicos en el procesamiento y análisis, independientemente del origen de los datos: cargar, preparar, manipular, modelar y analizar.\n",
    "\n",
    "<img src=\"python.jpg\" alt=\"Drawing\" style=\"width: 700px;\"/>\n",
    "\n",
    "La estructura básica de Pandas se denomina **DataFrame**, que es una colección ordenada de columnas con nombres y tipos, parecido a una tabla de bases de datos, donde una sola fila representa un único caso (observación) y las columnas representan atributos particulares."
   ]
  },
  {
   "cell_type": "markdown",
   "metadata": {},
   "source": [
    "### 1º) Importar librerías"
   ]
  },
  {
   "cell_type": "code",
   "execution_count": null,
   "metadata": {},
   "outputs": [],
   "source": [
    "# !pip install pandas     # Instalación del paquete en caso de ser necesario\n",
    "# !conda install pandas\n",
    "\n",
    "import pandas as pd\n",
    "\n",
    "from matplotlib import pyplot as plt\n",
    "\n",
    "from sklearn.linear_model import LinearRegression\n",
    "from sklearn.model_selection import train_test_split\n",
    "from sklearn.metrics import mean_squared_error"
   ]
  },
  {
   "cell_type": "markdown",
   "metadata": {},
   "source": [
    "El nombre del paquete debe ser utilizado para poder usar algunas de las funciones del mismo, por lo que es muy común darle un pseudónimo o diminutivo a la hora de cargarlo. Para el caso de Pandas, `pd` es la abreviatura más extendida entre los usuarios de Python."
   ]
  },
  {
   "cell_type": "code",
   "execution_count": null,
   "metadata": {},
   "outputs": [],
   "source": [
    "# Ejemplo rápido: creación de un DataFrame vacío\n",
    "ejemplo = _"
   ]
  },
  {
   "cell_type": "markdown",
   "metadata": {},
   "source": [
    "En caso de necesitar ayuda sobre alguna clase o función y sus atributos, podemos utilizar la función `help()`:"
   ]
  },
  {
   "cell_type": "code",
   "execution_count": null,
   "metadata": {},
   "outputs": [],
   "source": [
    "_(pd.DataFrame())"
   ]
  },
  {
   "cell_type": "markdown",
   "metadata": {},
   "source": [
    "Si no es suficiente, siempre podremos consultar su guía: https://pandas.pydata.org/docs/getting_started/index.html"
   ]
  },
  {
   "cell_type": "markdown",
   "metadata": {},
   "source": [
    "### 2º) Cargar datos\n",
    "El paquete Pandas permite la carga de datos provenientes de multiples formatos (CSV, Excel, JSON, HTML...)."
   ]
  },
  {
   "cell_type": "code",
   "execution_count": null,
   "metadata": {},
   "outputs": [],
   "source": [
    "datos = pd._('calidad_aire1.csv')"
   ]
  },
  {
   "cell_type": "markdown",
   "metadata": {},
   "source": [
    "Podemos ver el tipo de objeto creado mediante la función `type`"
   ]
  },
  {
   "cell_type": "code",
   "execution_count": null,
   "metadata": {},
   "outputs": [],
   "source": [
    "_(datos)"
   ]
  },
  {
   "cell_type": "markdown",
   "metadata": {},
   "source": [
    "### 3º) Visualización rápida de los datos"
   ]
  },
  {
   "cell_type": "code",
   "execution_count": null,
   "metadata": {},
   "outputs": [],
   "source": [
    "# Primeras observaciones/filas del DataFrame\n",
    "datos"
   ]
  },
  {
   "cell_type": "code",
   "execution_count": null,
   "metadata": {},
   "outputs": [],
   "source": [
    "# Últimas observaciones/filas del DataFrame\n",
    "datos"
   ]
  },
  {
   "cell_type": "code",
   "execution_count": null,
   "metadata": {},
   "outputs": [],
   "source": [
    "# Número de observaciones y columnas\n",
    "datos.shape"
   ]
  },
  {
   "cell_type": "code",
   "execution_count": null,
   "metadata": {},
   "outputs": [],
   "source": [
    "print('Número de observaciones:', datos.shape_)\n",
    "print('Número de columnas/atributos:', datos.shape_)"
   ]
  },
  {
   "cell_type": "code",
   "execution_count": null,
   "metadata": {},
   "outputs": [],
   "source": [
    "# Acceso al nombre de las columnas\n",
    "datos._"
   ]
  },
  {
   "cell_type": "code",
   "execution_count": null,
   "metadata": {},
   "outputs": [],
   "source": [
    "# Resumen de las columnas/atributos del DataFrame\n",
    "datos"
   ]
  },
  {
   "cell_type": "code",
   "execution_count": null,
   "metadata": {},
   "outputs": [],
   "source": [
    "# Resumen estadístico de los atributos (numéricos)\n",
    "datos"
   ]
  },
  {
   "cell_type": "markdown",
   "metadata": {},
   "source": [
    "### 4º) Selección de datos\n",
    "Pandas nos permite seleccionar datos a través de tres formas distintas:\n",
    "- Selección directa\n",
    "- Selección mediante `loc`\n",
    "- Selección mediante `iloc`\n",
    "\n",
    "#### 4.1) Selección directa\n",
    "Es la manera más sencilla de acceder a las columnas deseadas, permitiendo también la obtención de observaciones. Como desventaja, no permite realizar la selección de observaciones y atributos de manera simultánea.\n",
    "\n",
    "Selección de columnas:"
   ]
  },
  {
   "cell_type": "code",
   "execution_count": null,
   "metadata": {},
   "outputs": [],
   "source": [
    "# Una única columna\n",
    "datos_"
   ]
  },
  {
   "cell_type": "markdown",
   "metadata": {},
   "source": [
    "_**OJO!:** La selección de una única columna ya no muestra estructura de DataFrame. A partir de su realización estaríamos trabajando con **Series**, una versión unidimensional del DataFrame. Estas estructuras comparten la mayoría de sus atributos y métodos, aunque no todos (ejemplo: `.info()`)._"
   ]
  },
  {
   "cell_type": "code",
   "execution_count": null,
   "metadata": {},
   "outputs": [],
   "source": [
    "type(datos_)"
   ]
  },
  {
   "cell_type": "code",
   "execution_count": null,
   "metadata": {},
   "outputs": [],
   "source": [
    "# Múltiples columnas\n",
    "datos_"
   ]
  },
  {
   "cell_type": "markdown",
   "metadata": {},
   "source": [
    "Selección de observaciones:"
   ]
  },
  {
   "cell_type": "code",
   "execution_count": null,
   "metadata": {},
   "outputs": [],
   "source": [
    "# Una única observación\n",
    "datos[0:1]"
   ]
  },
  {
   "cell_type": "code",
   "execution_count": null,
   "metadata": {},
   "outputs": [],
   "source": [
    "# Varias observaciones\n",
    "datos[0:5]"
   ]
  },
  {
   "cell_type": "markdown",
   "metadata": {},
   "source": [
    "#### 4.2) Selección mediante `loc`\n",
    "Este método permite utilizar **etiquetas o nombres** para seleccionar datos. Es muy útil, ya que nos permite el acceso tanto a observaciones como a columnas, por lo que se antoja necesario a la hora de realizar algún tipo de **filtro** sobre los datos.\n",
    "\n",
    "A diferencia del método anterior, para la selección de columnas es necesario especificar también las observaciones (índices) requeridas:"
   ]
  },
  {
   "cell_type": "code",
   "execution_count": null,
   "metadata": {},
   "outputs": [],
   "source": [
    "# Una única columna\n",
    "datos_[:, 'Título']"
   ]
  },
  {
   "cell_type": "code",
   "execution_count": null,
   "metadata": {},
   "outputs": [],
   "source": [
    "# Múltiplas columnas\n",
    "datos.loc[:, _]"
   ]
  },
  {
   "cell_type": "markdown",
   "metadata": {},
   "source": [
    "Selección de observaciones:"
   ]
  },
  {
   "cell_type": "code",
   "execution_count": null,
   "metadata": {},
   "outputs": [],
   "source": [
    "# Una sola observación\n",
    "datos.loc_"
   ]
  },
  {
   "cell_type": "code",
   "execution_count": null,
   "metadata": {},
   "outputs": [],
   "source": [
    "# Varias observaciones\n",
    "datos.loc_"
   ]
  },
  {
   "cell_type": "markdown",
   "metadata": {},
   "source": [
    "En caso de desear obtener información de algún atributo en específico para unas pocas observaciones, podemos filtrar el conjunto de datos sencillamente  especificando tanto observaciones como columnas:"
   ]
  },
  {
   "cell_type": "code",
   "execution_count": null,
   "metadata": {},
   "outputs": [],
   "source": [
    "datos_"
   ]
  },
  {
   "cell_type": "markdown",
   "metadata": {},
   "source": [
    "#### 4.3) Selección mediante `iloc`\n",
    "Este método funciona de igual manera que `loc`. Sin embargo, en lugar de etiquetas, se utiliza el **índice** de las mismas para realizar el filtro.\n",
    "\n",
    "Selección de columnas:"
   ]
  },
  {
   "cell_type": "code",
   "execution_count": null,
   "metadata": {},
   "outputs": [],
   "source": [
    "# Una columna\n",
    "datos.iloc[:, _]"
   ]
  },
  {
   "cell_type": "code",
   "execution_count": null,
   "metadata": {},
   "outputs": [],
   "source": [
    "# Varias columnas\n",
    "datos.iloc[:, _]"
   ]
  },
  {
   "cell_type": "markdown",
   "metadata": {},
   "source": [
    "Selección de observaciones:"
   ]
  },
  {
   "cell_type": "code",
   "execution_count": null,
   "metadata": {},
   "outputs": [],
   "source": [
    "# Una sola observación\n",
    "datos.iloc_"
   ]
  },
  {
   "cell_type": "code",
   "execution_count": null,
   "metadata": {},
   "outputs": [],
   "source": [
    "datos.iloc_"
   ]
  },
  {
   "cell_type": "markdown",
   "metadata": {},
   "source": [
    "De igual modo que con el método anterior, podemos obtener una selección tanto de observaciones como atributos, siempre y cuando se use el índice de los mismos en lugar de su etiqueta:"
   ]
  },
  {
   "cell_type": "code",
   "execution_count": null,
   "metadata": {},
   "outputs": [],
   "source": [
    "datos_"
   ]
  },
  {
   "cell_type": "markdown",
   "metadata": {},
   "source": [
    "### 5º) Filtrar datos\n",
    "\n",
    "#### 5.1) Filtrar observaciones\n",
    "Los filtros para observaciones pueden especificarse y aplicarse tanto sobre variables numéricas como categóricas:"
   ]
  },
  {
   "cell_type": "code",
   "execution_count": null,
   "metadata": {},
   "outputs": [],
   "source": [
    "# Filtro aplicado sobre la variable 'Periodo' (variable numérica)\n",
    "datos_filtrados1 = datos[_]"
   ]
  },
  {
   "cell_type": "code",
   "execution_count": null,
   "metadata": {},
   "outputs": [],
   "source": [
    "print('Número de observaciones en el conjunto filtrado:', datos_filtrados1.shape[0])"
   ]
  },
  {
   "cell_type": "markdown",
   "metadata": {},
   "source": [
    "Además de poder aplicarse varios métodos de manera simultánea:"
   ]
  },
  {
   "cell_type": "code",
   "execution_count": null,
   "metadata": {},
   "outputs": [],
   "source": [
    "# Aplicando múltiples filtros\n",
    "datos_filtrados2 = datos[(datos['Título']=='Estación Avenida Castilla') & (datos['Periodo'] >= 12)]"
   ]
  },
  {
   "cell_type": "code",
   "execution_count": null,
   "metadata": {},
   "outputs": [],
   "source": [
    "print('Número de observaciones en el conjunto filtrado:', datos_filtrados2.shape[0])"
   ]
  },
  {
   "cell_type": "markdown",
   "metadata": {},
   "source": [
    "El paquete Pandas también facilita el filtrado de nuestro conjunto de datos, ya que además de permitir la especificación del propio filtro mediante valor o etiqueta, cuenta con varias funciones muy útiles que agilizan este proceso.\n",
    "\n",
    "Por ejemplo, en caso de querer seleccionar únicamente aquellas observaciones de las que conocemos el valor de la variable CO, podríamos utilizar el método o función `.notnull()`:"
   ]
  },
  {
   "cell_type": "code",
   "execution_count": null,
   "metadata": {},
   "outputs": [],
   "source": [
    "# Filtro mediante el método '.notnull()'\n",
    "datos_filtrados3 = datos[datos['CO']_]"
   ]
  },
  {
   "cell_type": "code",
   "execution_count": null,
   "metadata": {},
   "outputs": [],
   "source": [
    "print('Número de observaciones en el conjunto filtrado:', datos_filtrados3.shape[0])"
   ]
  },
  {
   "cell_type": "markdown",
   "metadata": {},
   "source": [
    "Por último, destacar el hecho de que si se desea aplicar el filtro y seleccionar una serie de atributos de manera simultánea, debemos utilizar el método `.loc` anteriormente descrito:"
   ]
  },
  {
   "cell_type": "code",
   "execution_count": null,
   "metadata": {},
   "outputs": [],
   "source": [
    "datos.loc[_]"
   ]
  },
  {
   "cell_type": "markdown",
   "metadata": {},
   "source": [
    "#### 4.2) Filtrar columnas\n",
    "En caso de trabajar con un gran número de variables, resulta útil poder filtrarlas de manera rápida, puesto que en ocasiones nos interesará manejar y manipular solo algunas especificamente.\n",
    "\n",
    "Podemos filtrar aquellos atributos según su tipo. Si quisiéramos, por ejemplo, quedarnos únicamente con aquellas variables cuyos valores corresponden a números decimales:"
   ]
  },
  {
   "cell_type": "code",
   "execution_count": null,
   "metadata": {},
   "outputs": [],
   "source": [
    "# Filtrado de columnas atendiendo a su tipo\n",
    "columnas_filtradas1 = datos.select_dtypes(['float64'])"
   ]
  },
  {
   "cell_type": "code",
   "execution_count": null,
   "metadata": {},
   "outputs": [],
   "source": [
    "columnas_filtradas1.head()"
   ]
  },
  {
   "cell_type": "markdown",
   "metadata": {},
   "source": [
    "Pandas también nos ayuda a filtrar las columnas en base a su nombre gracias al método `.filter()`. Éste permite obtener las variables cuyo nombre contiene la expresión especificada:"
   ]
  },
  {
   "cell_type": "code",
   "execution_count": null,
   "metadata": {},
   "outputs": [],
   "source": [
    "# Filtrado de columnas atendiendo a su nombre\n",
    "columnas_filtradas2 = datos_"
   ]
  },
  {
   "cell_type": "code",
   "execution_count": null,
   "metadata": {},
   "outputs": [],
   "source": [
    "columnas_filtradas2.head()"
   ]
  },
  {
   "cell_type": "markdown",
   "metadata": {},
   "source": [
    "### 6º) Operar sobre los datos\n",
    "Los DataFrames tienen la ventaja de permitirnos realizar operaciones rápidas sobre los datos, ya sean operaciones de aritmética básica (suma, resta, multiplicación, etc) como algunas más sofisticadas."
   ]
  },
  {
   "cell_type": "code",
   "execution_count": null,
   "metadata": {},
   "outputs": [],
   "source": [
    "# Cargamos un nuevo conjunto de datos e inspeccionamos brevemente\n",
    "datos2 = _('calidad_aire2.csv')\n",
    "datos2.info()"
   ]
  },
  {
   "cell_type": "code",
   "execution_count": null,
   "metadata": {},
   "outputs": [],
   "source": [
    "# Filtramos variables para trabajar únicamente con las 'xx'\n",
    "xx_df = datos2_"
   ]
  },
  {
   "cell_type": "markdown",
   "metadata": {},
   "source": [
    "Ejemplos de operaciones rápidas entre variables:"
   ]
  },
  {
   "cell_type": "code",
   "execution_count": null,
   "metadata": {},
   "outputs": [],
   "source": [
    "# Creación de una nueva variable que muestre la diferencia entre otras dos\n",
    "xx_df['xx1_xx2_diff'] = _ - _"
   ]
  },
  {
   "cell_type": "code",
   "execution_count": null,
   "metadata": {},
   "outputs": [],
   "source": [
    "xx_df.head()"
   ]
  },
  {
   "cell_type": "code",
   "execution_count": null,
   "metadata": {},
   "outputs": [],
   "source": [
    "# Modificación de variable utilizando un entero\n",
    "xx_df['xx1_xx2_diff'] = xx_df['xx1_xx2_diff'] * 2"
   ]
  },
  {
   "cell_type": "code",
   "execution_count": null,
   "metadata": {},
   "outputs": [],
   "source": [
    "xx_df.head()"
   ]
  },
  {
   "cell_type": "markdown",
   "metadata": {},
   "source": [
    "En caso de que deseásemos guardar este conjunto en el que incorporamos una nueva variable o realizamos cualquier otro cambio de otro tipo, también lo podríamos hacer de una forma muy sencilla:"
   ]
  },
  {
   "cell_type": "code",
   "execution_count": null,
   "metadata": {},
   "outputs": [],
   "source": [
    "# Guardar datos en CSV\n",
    "xx_df_('nuevo_xx.csv', index=False)"
   ]
  },
  {
   "cell_type": "markdown",
   "metadata": {},
   "source": [
    "También existen métodos que nos permiten realizar este tipo de operaciones sobre todo el conjunto de datos:"
   ]
  },
  {
   "cell_type": "code",
   "execution_count": null,
   "metadata": {},
   "outputs": [],
   "source": [
    "# Sumamos el valor de una variable a todas las demás para todas las observaciones\n",
    "xx_df.add(xx_df['xx1'], axis=0).head()"
   ]
  },
  {
   "cell_type": "code",
   "execution_count": null,
   "metadata": {},
   "outputs": [],
   "source": [
    "# Diferencia entre columnas de manera consecutiva (o por filas)\n",
    "xx_df.diff(axis=1).head()"
   ]
  },
  {
   "cell_type": "markdown",
   "metadata": {},
   "source": [
    "De igual modo, existen funciones que posibilitan realizar el cálculo de operaciones estadísticas sencillas sin tener que utilizar otros paquetes específicos para este tipo de tareas."
   ]
  },
  {
   "cell_type": "code",
   "execution_count": null,
   "metadata": {},
   "outputs": [],
   "source": [
    "# Cálculo de la varianza\n",
    "xx_df_"
   ]
  },
  {
   "cell_type": "code",
   "execution_count": null,
   "metadata": {},
   "outputs": [],
   "source": [
    "# Cálculo de la matriz de correlaciones\n",
    "xx_df_"
   ]
  },
  {
   "cell_type": "markdown",
   "metadata": {},
   "source": [
    "En ocasiones, puede resultar interesante calcular estadísticas sobre las variables numéricas en relación a algún tipo de agrupación:"
   ]
  },
  {
   "cell_type": "code",
   "execution_count": null,
   "metadata": {},
   "outputs": [],
   "source": [
    "datos._('Título').mean()"
   ]
  },
  {
   "cell_type": "markdown",
   "metadata": {},
   "source": [
    "### 7º) Operar con diferentes DataFrames\n",
    "Pandas nos proporciona herramientas con las que rápidamente podemos unir o juntar varios DataFrames, ya sea por columnas o por filas:"
   ]
  },
  {
   "cell_type": "code",
   "execution_count": null,
   "metadata": {},
   "outputs": [],
   "source": [
    "# Juntar DataFrames por columnas en base a columnas comunes\n",
    "datos_total = pd._(datos, datos2, on=_)"
   ]
  },
  {
   "cell_type": "code",
   "execution_count": null,
   "metadata": {},
   "outputs": [],
   "source": [
    "datos_total.head()"
   ]
  },
  {
   "cell_type": "code",
   "execution_count": null,
   "metadata": {},
   "outputs": [],
   "source": [
    "# Juntar DataFrames por filas\n",
    "datos_duplicados = pd._([datos_total, datos_total], ignore_index=True)"
   ]
  },
  {
   "cell_type": "code",
   "execution_count": null,
   "metadata": {},
   "outputs": [],
   "source": [
    "print('Número de observaciones en el conjunto original:', datos_total.shape[0])\n",
    "print('Número de observaciones en el conjunto concatenado:', datos_duplicados.shape[0])"
   ]
  },
  {
   "cell_type": "markdown",
   "metadata": {},
   "source": [
    "### 8º) Gráficos\n",
    "Aunque normalmente en Python se trabaja con otros paquetes mucho más completos para realizar la visualización gráfica de los datos, Pandas también nos provee de algunos métodos con los que poder visualizarlos de una manera mucho más rápida.\n",
    "\n",
    "_**NOTA:** Para que puedan ser visualizados, debemos al menos cargar la librería `pyplot` del paquete `matplotlib`._"
   ]
  },
  {
   "cell_type": "code",
   "execution_count": null,
   "metadata": {},
   "outputs": [],
   "source": [
    "# Gráfico de cajas\n",
    "xx_df.boxplot(figsize=(10, 8))\n",
    "plt.show()    # Al finalizar el gráfico, siempre debemos acompañarlo de esta llamada para que pueda ser visualizado correctamente"
   ]
  },
  {
   "cell_type": "code",
   "execution_count": null,
   "metadata": {},
   "outputs": [],
   "source": [
    "# Histogramas\n",
    "xx_df.hist(figsize=(10, 8))\n",
    "plt.show()"
   ]
  },
  {
   "cell_type": "markdown",
   "metadata": {},
   "source": [
    "## BONUS - Introducción a Machine Learning: Regresión Lineal"
   ]
  },
  {
   "cell_type": "code",
   "execution_count": null,
   "metadata": {},
   "outputs": [],
   "source": [
    "# Selección de datos a modelar\n",
    "datos_lr = datos[['SO2', 'NO', 'NO2', 'CO', 'PM10']]"
   ]
  },
  {
   "cell_type": "code",
   "execution_count": null,
   "metadata": {},
   "outputs": [],
   "source": [
    "print('Número de observaciones:', datos_lr.shape[0])"
   ]
  },
  {
   "cell_type": "code",
   "execution_count": null,
   "metadata": {},
   "outputs": [],
   "source": [
    "# Preparación de datos: tratamiento de datos ausentes - eliminación\n",
    "datos_lr = datos_lr.dropna()"
   ]
  },
  {
   "cell_type": "code",
   "execution_count": null,
   "metadata": {},
   "outputs": [],
   "source": [
    "print(\"Número de observaciones tras eliminación de NaN's:\", datos_lr.shape[0])"
   ]
  },
  {
   "cell_type": "code",
   "execution_count": null,
   "metadata": {},
   "outputs": [],
   "source": [
    "# Separación datos en conjunto de entrenamiento y test\n",
    "X = datos_lr[['SO2', 'NO', 'NO2', 'PM10']]\n",
    "y = datos_lr['CO']\n",
    "\n",
    "X_train, X_test, y_train, y_test = train_test_split(X, y, test_size=0.25)"
   ]
  },
  {
   "cell_type": "code",
   "execution_count": null,
   "metadata": {},
   "outputs": [],
   "source": [
    "print('Tamaño conjunto de entrenamiento:', X_train.shape[0])\n",
    "print('Tamaño conjunto de test:', X_test.shape[0])"
   ]
  },
  {
   "cell_type": "code",
   "execution_count": null,
   "metadata": {},
   "outputs": [],
   "source": [
    "# Ajuste y entrenamiento del modelo\n",
    "lr_model = LinearRegression()\n",
    "\n",
    "lr_model.fit(X_train, y_train)"
   ]
  },
  {
   "cell_type": "code",
   "execution_count": null,
   "metadata": {},
   "outputs": [],
   "source": [
    "# Coeficientes obtenidos por el modelo\n",
    "print('Coeficientes del modelo:', list(zip(X.columns, lr_model.coef_.flatten(), )))\n",
    "print('Intercept del modelo:', lr_model.intercept_)\n",
    "print('Coeficiente de determinación R^2:', lr_model.score(X, y))"
   ]
  },
  {
   "cell_type": "code",
   "execution_count": null,
   "metadata": {},
   "outputs": [],
   "source": [
    "# Predicciones sobre el conjunto de test\n",
    "predicciones = lr_model.predict(X_test)"
   ]
  },
  {
   "cell_type": "code",
   "execution_count": null,
   "metadata": {},
   "outputs": [],
   "source": [
    "# Evaluación de la capacidad predictiva mediante RMSE\n",
    "rmse = mean_squared_error(y_test, predicciones, squared=False)\n",
    "print(\"Error (RMSE) de test:\", rmse)"
   ]
  }
 ],
 "metadata": {
  "kernelspec": {
   "display_name": "Python 3",
   "language": "python",
   "name": "python3"
  },
  "language_info": {
   "codemirror_mode": {
    "name": "ipython",
    "version": 3
   },
   "file_extension": ".py",
   "mimetype": "text/x-python",
   "name": "python",
   "nbconvert_exporter": "python",
   "pygments_lexer": "ipython3",
   "version": "3.7.3"
  }
 },
 "nbformat": 4,
 "nbformat_minor": 2
}
