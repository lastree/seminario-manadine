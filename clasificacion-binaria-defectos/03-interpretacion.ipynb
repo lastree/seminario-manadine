{
 "cells": [
  {
   "cell_type": "markdown",
   "metadata": {},
   "source": [
    "# Interpretación de resultados\n",
    "Para organizar nuestro notebook (script), dedicaremos la celda inicial a la carga de librerías necesarias para la ejecución del script completo. Si necesitamos instalar algunas de ellas porque no estén disponibles en nuestro repositorio, las instalaremos y dejaremos indicado que hemos necesitado instalarlas. Esto servirá para la configuración del entorno de trabajo de futuros proyectos. :)\n",
    "\n",
    "El notebook está esturcturado como sigue:\n",
    "\n",
    "* Bloque A: carga del modelo entrenado.\n",
    "* Bloque B: cálculo de los valores SHAP.\n",
    "* Bloque C: visualización con `summary_plot`.\n",
    "\n",
    "### Librerías"
   ]
  },
  {
   "cell_type": "code",
   "execution_count": null,
   "metadata": {},
   "outputs": [],
   "source": [
    "#install.packages(\"SHAPforxgboost\")\n",
    "#install.packages(\"Ckmeans.1d.dp\")  -> caprichín para gráficos\n",
    "#install.packages(\"patchwork\")  -> caprichín para gráficos \n",
    "\n",
    "library(xgboost)   # la necesitamos para cargar el modelo entrenado\n",
    "library(SHAPforxgboost)\n",
    "library(ggplot2)\n",
    "library(patchwork)"
   ]
  },
  {
   "cell_type": "markdown",
   "metadata": {},
   "source": [
    "## BLOQUE A: carga del modelo entrenado"
   ]
  },
  {
   "cell_type": "code",
   "execution_count": null,
   "metadata": {},
   "outputs": [],
   "source": [
    "modelo <- ?????(\"modelo_entrenado\")\n",
    "data <- read.csv(\"dataPrepared.csv\")\n",
    "X <-  ?????? \n",
    "y <- ?????"
   ]
  },
  {
   "cell_type": "markdown",
   "metadata": {},
   "source": [
    "## BLOQUE B: importancia de los valores SHAP\n",
    "Aunque los árboles de decisión pueden llegar a ser estimadores fácilmente interpretables, resulta muy complejo interpretar el modelo resultante al concatenar un buen número de ellos. Esto se debe a que, además de la elevada profundidad de cada árbol, existe un gran número de ellos, lo que hace imposible interpretar a simple vista el efecto que ejerce cada una de las variables.\n",
    "\n",
    "Para interpretar este modelo se utilizará un método relativamente nuevo: **los valores SHAP** (_SHapley Additive exPlanation_). Se trata de un método que sirve sobre todo para explicar predicciones individuales basándose en los [valores de Shapley](https://es.wikipedia.org/wiki/Valor_de_Shapley) de la teoría de juegos. Estos valores de Shapley nos dicen como distribuir de manera justa los pesos o ponderaciones entre todas las variables en función a su contribución en la predicción. \n",
    "\n",
    "A continuación se incluyen algunos enlaces de interés:\n",
    "* [Artículo](https://papers.nips.cc/paper/7062-a-unified-approach-to-interpreting-model-predictions.pdf) de Scott Lundberg con la presentación de la técnica.\n",
    "* Página de [Github](https://github.com/slundberg/shap) que explica la librería de Python desarrollada por Scott Lundberg.  \n",
    "* [Post en Medium](https://towardsdatascience.com/explain-your-model-with-the-shap-values-bc36aac4de3dv) con un ejemplo de cómo usar los valores SHAP para explicar la contribución de las variables en un modelo (ejemplo en Python).\n",
    "* [Post](https://liuyanguu.github.io/post/2019/07/18/visualization-of-shap-for-xgboost/) con visualizaciones en R (`SHAPforxgboost` vignette). \n",
    "\n",
    "#### Cálculo de la importancia con `xgboost`\n",
    "A continuación se ve el ranking de variables según las medidas `gain` y `frequency`."
   ]
  },
  {
   "cell_type": "code",
   "execution_count": null,
   "metadata": {},
   "outputs": [],
   "source": [
    "## Cáculo de la importancia de xgboost\n",
    "options(repr.plot.width=8, repr.plot.height=3.5)\n",
    "importance.matrix <- ?????????\n",
    "p1 <- xgb.ggplot.importance(?????, rel_to_first = TRUE)\n",
    "p2 <- xgb.ggplot.importance(?????, measure = 'Frequency', rel_to_first = TRUE)\n",
    "???????"
   ]
  },
  {
   "cell_type": "markdown",
   "metadata": {},
   "source": [
    "#### Cálculo de los `SHAP values`\n",
    "* 1. Utiliar la función `shap.values` para obtener los valores Shapley. ¿Qué tipo de objeto es? ¿Qué contiene?\n",
    "* 2. ¿Qué dimensión debería tener `shap_score`?\n",
    "* 3. ¿Qué es `mean_shap_score`?"
   ]
  },
  {
   "cell_type": "code",
   "execution_count": null,
   "metadata": {},
   "outputs": [],
   "source": [
    "# Obtener los SHAP values x\n",
    "shap.values <- ????(????, ????)\n",
    "?????(shap.values)\n",
    "# Ranking de variables según mean |SHAP|\n",
    "print(?????)"
   ]
  },
  {
   "cell_type": "markdown",
   "metadata": {},
   "source": [
    "Podemos comprobar que efectivamente, la suma de las filas de `shap.values` +`BIAS0` coincide con la salida del modelo: "
   ]
  },
  {
   "cell_type": "code",
   "execution_count": null,
   "metadata": {},
   "outputs": [],
   "source": [
    "shap.data <- ?????\n",
    "shap.sum <- ?????(shap.data)\n",
    "y_pred <- predict(modelo, ??????)\n",
    "\n",
    "???????"
   ]
  },
  {
   "cell_type": "markdown",
   "metadata": {},
   "source": [
    "## BLOQUE C: visualización de los valores SHAP\n",
    "Aunque existen varias visualizaciones, utilizaremos la función `shap.plot.summary.wrap1` (variante de `shap.plot.summary`) para obtener una visión general:"
   ]
  },
  {
   "cell_type": "code",
   "execution_count": null,
   "metadata": {},
   "outputs": [],
   "source": [
    "options(repr.plot.width=8, repr.plot.height=4.5)\n",
    "shap.plot.summary.wrap1(?????, ?????)"
   ]
  },
  {
   "cell_type": "markdown",
   "metadata": {},
   "source": [
    "Podemos controlar algunos parámetros de la visualización como el límite en el eje X (con `x_bound`) o la proporción de observaciones a pintar (con `dilute`). Para ello, hay que usar la función `shap.plot.summary` y por tanto, hay que preparar los datos en el formato adecuado (`shap.prep`):"
   ]
  },
  {
   "cell_type": "code",
   "execution_count": null,
   "metadata": {},
   "outputs": [],
   "source": [
    "# Preparamos los datos en el formato que necesita\n",
    "shap.long <- shap.prep(??????, ??????)\n",
    "shap.plot.summary(??????, x_bound  = ????, dilute = ????)"
   ]
  }
 ],
 "metadata": {
  "kernelspec": {
   "display_name": "R",
   "language": "R",
   "name": "ir"
  },
  "language_info": {
   "codemirror_mode": "r",
   "file_extension": ".r",
   "mimetype": "text/x-r-source",
   "name": "R",
   "pygments_lexer": "r",
   "version": "3.5.1"
  }
 },
 "nbformat": 4,
 "nbformat_minor": 2
}
