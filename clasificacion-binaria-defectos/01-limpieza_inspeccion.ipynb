{
 "cells": [
  {
   "cell_type": "markdown",
   "metadata": {},
   "source": [
    "# Limpieza e inspección de los datos\n",
    "\n",
    "Para organizar nuestro notebook (script), dedicaremos la _celda_ inicial a la carga de librerías necesarias para la ejecución del script completo. Si necesitamos instalar algunas de ellas porque no estén disponibles en nuestro repositorio, las instalaremos y dejaremos indicado que hemos necesitado instalarlas. Esto servirá para la configuración del entorno de trabajo de futuros proyectos. :)   \n",
    "\n",
    "El notebook está esturcturado como sigue:\n",
    "* **Bloque A**: carga de datos.\n",
    "* **Bloque B**: inspección de datos.\n",
    "* **Bloque C**: limpieza de datos y exportación del conjunto resultante."
   ]
  },
  {
   "cell_type": "markdown",
   "metadata": {},
   "source": [
    "### Librerías"
   ]
  },
  {
   "cell_type": "code",
   "execution_count": null,
   "metadata": {},
   "outputs": [],
   "source": [
    "#install.packages(?)\n",
    "\n",
    "library(?)\n",
    "library(?)"
   ]
  },
  {
   "cell_type": "markdown",
   "metadata": {},
   "source": [
    "## BLOQUE A: carga de los datos\n",
    "Los datos están en formato `.rdata`, así que los cargamos usando la función `load()`."
   ]
  },
  {
   "cell_type": "code",
   "execution_count": null,
   "metadata": {},
   "outputs": [],
   "source": [
    "???? # Imprime directorio de trabajo\n",
    "load('data.rdata') # Carga un fichero .rdata\n",
    "????  # Muestra los objetos cargados en memoria "
   ]
  },
  {
   "cell_type": "markdown",
   "metadata": {},
   "source": [
    "## BLOQUE B: inspección de los datos\n",
    "El objetivo de la inspección es la **familiarización con el conjunto de datos**. Algunas preguntas iniciales que podría estar bien hacerse pueden ser:\n",
    "* ¿En qué tipo de objeto están almacenados los datos? ¿Cuál es su dimensión?\n",
    "* ¿Hay datos ausentes? \n",
    "* ¿Cómo están distribuídas las variables? ¿Hay diferencias entre ausencia/presencia DEFECTO?\n",
    "* ¿Hay valores atípicos?\n",
    "* ..."
   ]
  },
  {
   "cell_type": "code",
   "execution_count": null,
   "metadata": {},
   "outputs": [],
   "source": [
    "# Tipo de objeto\n",
    "cat(\"El fichero es un\", ??????,\"de\", ??????, \"filas y\",??????, \"columnas.\")\n",
    "\n",
    "??? # muestra las primeras filas"
   ]
  },
  {
   "cell_type": "code",
   "execution_count": null,
   "metadata": {},
   "outputs": [],
   "source": [
    "# Ausencias\n",
    "?????(???)"
   ]
  },
  {
   "cell_type": "code",
   "execution_count": null,
   "metadata": {},
   "outputs": [],
   "source": [
    "options(repr.plot.width=8, repr.plot.height=2.5)  # cambiar el tamaño de los gráficos\n",
    "\n",
    "for (i in 1:19){\n",
    "    p <- ggplot(????)\n",
    "    p <- p + geom_????(?????)   # histograma\n",
    "    p <- p + geom_????(?????)   # aprox. densidad\n",
    "    p <- p + scale_?????_continuous(name = ???????)   # para que aparezca el nombre de la variable en el eje \n",
    "    p <- p + ???????  # formato \"limpio\"\n",
    "    print(p)  # incluir para que lo imprima por pantalla ^^\n",
    "}"
   ]
  },
  {
   "cell_type": "code",
   "execution_count": null,
   "metadata": {},
   "outputs": [],
   "source": [
    "# Outliers\n",
    "options(repr.plot.width=8, repr.plot.height=2.5)\n",
    "\n",
    "for (i in ??????){\n",
    "    p <- ggplot(??????)\n",
    "    p <- p + geom_?????(?????)\n",
    "    p <- p + scale_???????_continuous(??????)  # para que aparezca el nombre en el eje \n",
    "    p <- p + ???????  # formato \"limpio\"\n",
    "    print(p)  # incluir para que lo imprima por pantalla ^^\n",
    "}"
   ]
  },
  {
   "cell_type": "code",
   "execution_count": null,
   "metadata": {},
   "outputs": [],
   "source": [
    "# Si sospechas de que alguna variable toma casi siempre los mismos valores, asegúrate aquí:\n",
    "?????(????????)"
   ]
  },
  {
   "cell_type": "markdown",
   "metadata": {},
   "source": [
    "## BLOQUE 3: limpieza\n",
    "Algunos aspectos a tratar son:\n",
    "* Ausencias -> eliminaremos filas que no estén completas\n",
    "* Baja varianza -> no trabajaremos con variables con sd < 0.005\n",
    "\n",
    "Al final de la limpieza exportamos el fichero como `dataPrepared.csv`."
   ]
  },
  {
   "cell_type": "code",
   "execution_count": null,
   "metadata": {},
   "outputs": [],
   "source": [
    "# Eliminamos ausencias\n",
    "data <- ????? \n",
    "cat(\"El fichero es un\", ??????,\"de\", ??????, \"filas y\",??????, \"columnas.\")\n",
    "\n",
    "# Eliminamos variables con baja varianza (quimico9)\n",
    "sd.vector <- ?????  # calcula la sd para cada variable\n",
    "data <- ??????   # elimina aquellas que tengan sd<0.005"
   ]
  },
  {
   "cell_type": "code",
   "execution_count": null,
   "metadata": {},
   "outputs": [],
   "source": [
    "# Guarda tus resultados en csv\n",
    "write.csv(??????)"
   ]
  }
 ],
 "metadata": {
  "kernelspec": {
   "display_name": "R",
   "language": "R",
   "name": "ir"
  },
  "language_info": {
   "codemirror_mode": "r",
   "file_extension": ".r",
   "mimetype": "text/x-r-source",
   "name": "R",
   "pygments_lexer": "r",
   "version": "3.5.1"
  }
 },
 "nbformat": 4,
 "nbformat_minor": 2
}
